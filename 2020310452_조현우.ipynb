{
  "nbformat": 4,
  "nbformat_minor": 0,
  "metadata": {
    "colab": {
      "provenance": [],
      "gpuType": "T4"
    },
    "kernelspec": {
      "name": "python3",
      "display_name": "Python 3"
    },
    "language_info": {
      "name": "python"
    },
    "accelerator": "GPU"
  },
  "cells": [
    {
      "cell_type": "code",
      "execution_count": null,
      "metadata": {
        "id": "emAuvTr3Nix6"
      },
      "outputs": [],
      "source": [
        "def ishappy(n) :\n",
        "    check = []\n",
        "    while True :\n",
        "        if n in check:\n",
        "            return False\n",
        "        if n == '1' :\n",
        "            return True\n",
        "        check.append(n)\n",
        "        temp = list(n)\n",
        "        sum = 0\n",
        "        for i in range(len(temp)):\n",
        "            sum += int(temp[i])*int(temp[i])\n",
        "        n = str(sum)\n",
        "a = input()\n",
        "if ishappy(a):\n",
        "    print(\"True\")\n",
        "else:\n",
        "    print(\"False\")\n"
      ]
    }
  ]
}